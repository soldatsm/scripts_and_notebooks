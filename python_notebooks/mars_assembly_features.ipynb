{
 "cells": [
  {
   "cell_type": "code",
   "execution_count": 4,
   "metadata": {},
   "outputs": [],
   "source": [
    "from Bio import SeqIO\n",
    "import os"
   ]
  },
  {
   "cell_type": "code",
   "execution_count": 5,
   "metadata": {},
   "outputs": [],
   "source": [
    "def CG_cont(lis:str) -> float:\n",
    "    lis = lis.upper()\n",
    "    GC = lis.count('G') + lis.count('C')\n",
    "    return GC/len(lis)"
   ]
  },
  {
   "cell_type": "code",
   "execution_count": 21,
   "metadata": {},
   "outputs": [],
   "source": [
    "path = '/home/aster/Project_Geoarchaeota_28.11/results/mars_comarison/Table_of_features/MARS_data/CG_calc'"
   ]
  },
  {
   "cell_type": "code",
   "execution_count": 22,
   "metadata": {},
   "outputs": [
    {
     "name": "stdout",
     "output_type": "stream",
     "text": [
      "GCA_003019535.1_ASM301953v1_genomic.fna : 49.2%\n",
      "GCA_003019475.1_ASM301947v1_genomic.fna : 49.9%\n",
      "GCA_002507085.1_ASM250708v1_genomic.fna : 53.6%\n",
      "GCA_003019615.1_ASM301961v1_genomic.fna : 44.800000000000004%\n",
      "GCA_902812505.1_ASM90281250v1_genomic.fna : 48.9%\n",
      "GCA_003019545.1_ASM301954v1_genomic.fna : 50.7%\n",
      "GCA_011055275.1_ASM1105527v1_genomic.fna : 51.4%\n",
      "GCA_003019595.1_ASM301959v1_genomic.fna : 43.9%\n",
      "GCA_003019515.1_ASM301951v1_genomic.fna : 49.9%\n"
     ]
    }
   ],
   "source": [
    "for assembly in os.listdir(path):\n",
    "    fpath = os.path.join(path, assembly)\n",
    "    CG = 0\n",
    "    contig_CG = []\n",
    "    for seq in SeqIO.parse(open(fpath), 'fasta'):\n",
    "        CG = (seq.upper().count('G') + seq.upper().count('C'))/len(seq) \n",
    "        contig_CG.append(CG)\n",
    "\n",
    "    print(f'{assembly} : {(round(sum(contig_CG)/len(contig_CG), 3)*100)}%')\n"
   ]
  },
  {
   "cell_type": "code",
   "execution_count": 25,
   "metadata": {},
   "outputs": [
    {
     "name": "stdout",
     "output_type": "stream",
     "text": [
      "GCA_003019535.1_ASM301953v1_genomic.fna : len 2552355 nb.\n",
      "GCA_003019475.1_ASM301947v1_genomic.fna : len 2471134 nb.\n",
      "GCA_002507085.1_ASM250708v1_genomic.fna : len 889165 nb.\n",
      "GCA_003019615.1_ASM301961v1_genomic.fna : len 1992348 nb.\n",
      "GCA_902812505.1_ASM90281250v1_genomic.fna : len 1427151 nb.\n",
      "GCA_003019545.1_ASM301954v1_genomic.fna : len 2779268 nb.\n",
      "GCA_011055275.1_ASM1105527v1_genomic.fna : len 805778 nb.\n",
      "GCA_003019595.1_ASM301959v1_genomic.fna : len 2190152 nb.\n",
      "GCA_003019515.1_ASM301951v1_genomic.fna : len 2586509 nb.\n"
     ]
    }
   ],
   "source": [
    "for assembly in os.listdir(path):\n",
    "    fpath = os.path.join(path, assembly)\n",
    "    leng = 0\n",
    "    for seq in SeqIO.parse(open(fpath), 'fasta'):\n",
    "        leng  += len(seq)\n",
    "        \n",
    "\n",
    "    print(f'{assembly} : len {leng} nb.')"
   ]
  }
 ],
 "metadata": {
  "kernelspec": {
   "display_name": "bioinf",
   "language": "python",
   "name": "python3"
  },
  "language_info": {
   "codemirror_mode": {
    "name": "ipython",
    "version": 3
   },
   "file_extension": ".py",
   "mimetype": "text/x-python",
   "name": "python",
   "nbconvert_exporter": "python",
   "pygments_lexer": "ipython3",
   "version": "3.10.6"
  },
  "orig_nbformat": 4,
  "vscode": {
   "interpreter": {
    "hash": "5c7c0e940973d1f7f557ece26bca6704213ece01202fcdffb2249dc40fb254cf"
   }
  }
 },
 "nbformat": 4,
 "nbformat_minor": 2
}
