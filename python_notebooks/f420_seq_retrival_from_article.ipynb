{
 "cells": [
  {
   "attachments": {},
   "cell_type": "markdown",
   "metadata": {},
   "source": [
    "Создание отдельных баз последовательностей генов участвующих в синтезе F420 из базы данных, предоставленной в работе [https://www.nature.com/articles/ismej2016100#MOESM1]"
   ]
  },
  {
   "cell_type": "code",
   "execution_count": 9,
   "metadata": {},
   "outputs": [],
   "source": [
    "import pandas as pd\n",
    "import os"
   ]
  },
  {
   "cell_type": "code",
   "execution_count": 16,
   "metadata": {},
   "outputs": [],
   "source": [
    "data_cofC = pd.read_excel('/home/aster/Project_Geoarchaeota_28.11/results/metabolism/blasts/F420/cof_prot_from_article/41396_2017_BFismej2016100_MOESM5_ESM.xlsx',\n",
    "                    sheet_name='CofC')"
   ]
  },
  {
   "cell_type": "code",
   "execution_count": 39,
   "metadata": {},
   "outputs": [],
   "source": [
    "def sheet_proceed(path:str, name_list:list):\n",
    "    for name in name_list:\n",
    "        current_sheet = pd.read_excel(path, sheet_name=name)\n",
    "        new_path = os.path.join('/'.join(path.split('/')[:-1]), name)\n",
    "        with open(f'{new_path}.fasta', 'a') as write_file:\n",
    "            for idx, row in current_sheet.iterrows():\n",
    "\n",
    "                try:\n",
    "                    spicies = row['species'].replace(' ', '_')\n",
    "                except AttributeError:\n",
    "                    spicies = row['species']\n",
    "\n",
    "                write_file.write(f\">{name}_{row['WP']}_{spicies} [p__{row['phylum']} c__{row['class']} o__{row['order']} f__{row['family']} g__{row['genus']}]\\n{row['sequences']}\\n\")"
   ]
  },
  {
   "cell_type": "code",
   "execution_count": 40,
   "metadata": {},
   "outputs": [],
   "source": [
    "names = ['CofGH', 'CofG', 'CofH', 'CofC', 'CofD', 'CofE']"
   ]
  },
  {
   "cell_type": "code",
   "execution_count": 41,
   "metadata": {},
   "outputs": [],
   "source": [
    "sheet_proceed(path='/home/aster/Project_Geoarchaeota_28.11/results/metabolism/blasts/F420/cof_prot_from_article/41396_2017_BFismej2016100_MOESM5_ESM.xlsx', name_list=names)"
   ]
  }
 ],
 "metadata": {
  "kernelspec": {
   "display_name": "bioinf",
   "language": "python",
   "name": "python3"
  },
  "language_info": {
   "codemirror_mode": {
    "name": "ipython",
    "version": 3
   },
   "file_extension": ".py",
   "mimetype": "text/x-python",
   "name": "python",
   "nbconvert_exporter": "python",
   "pygments_lexer": "ipython3",
   "version": "3.10.6"
  },
  "orig_nbformat": 4,
  "vscode": {
   "interpreter": {
    "hash": "5c7c0e940973d1f7f557ece26bca6704213ece01202fcdffb2249dc40fb254cf"
   }
  }
 },
 "nbformat": 4,
 "nbformat_minor": 2
}
