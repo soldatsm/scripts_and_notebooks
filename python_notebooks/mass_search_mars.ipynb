{
 "cells": [
  {
   "cell_type": "code",
   "execution_count": 1,
   "metadata": {},
   "outputs": [],
   "source": [
    "from Bio import SeqIO\n",
    "import pandas as pd\n",
    "import os"
   ]
  },
  {
   "attachments": {},
   "cell_type": "markdown",
   "metadata": {},
   "source": [
    "## Concatenated Data base for Marsarchaeales.\n",
    "`Теперь все это в /results/mars_compareson/`"
   ]
  },
  {
   "attachments": {},
   "cell_type": "markdown",
   "metadata": {},
   "source": [
    "### Preporation of faa"
   ]
  },
  {
   "cell_type": "code",
   "execution_count": 7,
   "metadata": {},
   "outputs": [],
   "source": [
    "path = '/home/aster/Project_Geoarchaeota_28.11/results/mars_comarison/genomes/folder_with_proteomes'"
   ]
  },
  {
   "cell_type": "code",
   "execution_count": 8,
   "metadata": {},
   "outputs": [],
   "source": [
    "exit_path = ''"
   ]
  },
  {
   "cell_type": "code",
   "execution_count": 10,
   "metadata": {},
   "outputs": [],
   "source": [
    "for proteome in os.listdir(path):\n",
    "    fpath = os.path.join(path, proteome)\n",
    "    for seq in SeqIO.parse(open(fpath), 'fasta'):\n",
    "        with open(f\"/home/aster/Project_Geoarchaeota_28.11/results/mars_comarison/compareson/{proteome.split('.')[0]}_{seq.description.split('[')[-1].strip(']').replace(' ', '_')}.faa\", 'a') as write_file:\n",
    "            write_file.write(f\">{seq.description.split('[')[-1].strip(']').replace(' ', '_')}___{''.join(seq.description.split('[')[:-1]).replace(' ', '_')}\\n{str(seq.seq)}\\n\")\n"
   ]
  },
  {
   "cell_type": "code",
   "execution_count": 28,
   "metadata": {},
   "outputs": [],
   "source": [
    "#  То есть теперь названия файлов протеомов состоят из имени сборки(та что указана в фастах) + и accession сборки.\n",
    "#  Так же в имена каждого белка добавлены имена геномов чтобы сразу было понятно откуда белко при бластах."
   ]
  },
  {
   "cell_type": "code",
   "execution_count": 30,
   "metadata": {},
   "outputs": [
    {
     "data": {
      "text/plain": [
       "'/home/aster/Project_Geoarchaeota_28.11/results/lab_journals/02.04.23_CAZ_table_fixing.ipynb'"
      ]
     },
     "execution_count": 30,
     "metadata": {},
     "output_type": "execute_result"
    }
   ],
   "source": [
    "os.path.realpath('./02.04.23_CAZ_table_fixing.ipynb')"
   ]
  },
  {
   "attachments": {},
   "cell_type": "markdown",
   "metadata": {},
   "source": [
    "### Concationation "
   ]
  },
  {
   "cell_type": "code",
   "execution_count": null,
   "metadata": {
    "vscode": {
     "languageId": "shellscript"
    }
   },
   "outputs": [],
   "source": [
    "#!/bin/bash\n",
    "\n",
    "touch mars_concatenated.faa;\n",
    "\n",
    "for i in ./*.faa \n",
    "do\n",
    "        cat $i >> mars_concatenated.faa\n",
    "        echo $i \"-- Has been proceed\"\n",
    "done\n",
    "\n"
   ]
  }
 ],
 "metadata": {
  "kernelspec": {
   "display_name": "bioinf",
   "language": "python",
   "name": "python3"
  },
  "language_info": {
   "codemirror_mode": {
    "name": "ipython",
    "version": 3
   },
   "file_extension": ".py",
   "mimetype": "text/x-python",
   "name": "python",
   "nbconvert_exporter": "python",
   "pygments_lexer": "ipython3",
   "version": "3.10.6"
  },
  "orig_nbformat": 4,
  "vscode": {
   "interpreter": {
    "hash": "5c7c0e940973d1f7f557ece26bca6704213ece01202fcdffb2249dc40fb254cf"
   }
  }
 },
 "nbformat": 4,
 "nbformat_minor": 2
}
