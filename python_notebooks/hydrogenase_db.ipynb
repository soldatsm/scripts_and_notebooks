{
 "cells": [
  {
   "cell_type": "code",
   "execution_count": 1,
   "metadata": {},
   "outputs": [],
   "source": [
    "import pandas as pd\n",
    "from Bio import SeqIO"
   ]
  },
  {
   "attachments": {},
   "cell_type": "markdown",
   "metadata": {},
   "source": [
    "База 2016 года сздана в этой статье. Так же есть ее "
   ]
  },
  {
   "attachments": {},
   "cell_type": "markdown",
   "metadata": {},
   "source": [
    "https://services.birc.au.dk/hyddb/\n",
    "\n",
    "https://www.nature.com/articles/srep34212#MOESM1"
   ]
  },
  {
   "cell_type": "code",
   "execution_count": 23,
   "metadata": {},
   "outputs": [],
   "source": [
    "hyd_db_article = pd.read_excel('/home/aster/Project_Geoarchaeota_28.11/results/hydrogenases/hyd_db/41598_2016_BFsrep34212_MOESM2_ESM.xls')"
   ]
  },
  {
   "cell_type": "code",
   "execution_count": 24,
   "metadata": {},
   "outputs": [],
   "source": [
    "hyd_db_article_cite = pd.read_csv('/home/aster/Project_Geoarchaeota_28.11/results/hydrogenases/hyd_db/hyddb-results.csv.parsed.csv', sep=';', header=None)"
   ]
  },
  {
   "cell_type": "code",
   "execution_count": 25,
   "metadata": {},
   "outputs": [],
   "source": [
    "del hyd_db_article_cite[4]"
   ]
  },
  {
   "cell_type": "code",
   "execution_count": 30,
   "metadata": {},
   "outputs": [],
   "source": [
    "del hyd_db_article['Previous Class']"
   ]
  },
  {
   "cell_type": "code",
   "execution_count": 28,
   "metadata": {},
   "outputs": [],
   "source": [
    "hyd_db_article_cite = hyd_db_article_cite[[0,1,3,6,7,2,8,9,10,11,12]]"
   ]
  },
  {
   "cell_type": "code",
   "execution_count": 34,
   "metadata": {},
   "outputs": [],
   "source": [
    "hyd_db_article_cite_new = pd.DataFrame(data=hyd_db_article_cite.values, columns=hyd_db_article.columns)"
   ]
  },
  {
   "cell_type": "code",
   "execution_count": 45,
   "metadata": {},
   "outputs": [
    {
     "data": {
      "text/plain": [
       "Index(['NCBI Accession', 'Organism', 'Protein Sequence', 'Phylum', 'Order',\n",
       "       'New Class', 'Activity (predicted)', 'Oxygen-Tolerance (predicted)',\n",
       "       'Subunits (predicted)', 'Metal Centres (predicted)',\n",
       "       'Accessory Subunits (predicted)'],\n",
       "      dtype='object')"
      ]
     },
     "execution_count": 45,
     "metadata": {},
     "output_type": "execute_result"
    }
   ],
   "source": [
    "hyd_db_article_cite_new.columns"
   ]
  },
  {
   "cell_type": "code",
   "execution_count": 46,
   "metadata": {},
   "outputs": [],
   "source": [
    "hyd_concat = pd.concat([hyd_db_article_cite,hyd_db_article_cite_new],keys=['NCBI Accession', 'NCBI Accession'])"
   ]
  },
  {
   "cell_type": "code",
   "execution_count": 50,
   "metadata": {},
   "outputs": [
    {
     "name": "stderr",
     "output_type": "stream",
     "text": [
      "/tmp/ipykernel_23082/965996279.py:1: FutureWarning: The frame.append method is deprecated and will be removed from pandas in a future version. Use pandas.concat instead.\n",
      "  hyd_concat = hyd_db_article.append(hyd_db_article_cite_new, ignore_index=True)\n"
     ]
    }
   ],
   "source": [
    "hyd_concat = hyd_db_article.append(hyd_db_article_cite_new, ignore_index=True)"
   ]
  },
  {
   "cell_type": "code",
   "execution_count": 52,
   "metadata": {},
   "outputs": [],
   "source": [
    "hyd_concat = hyd_concat.drop_duplicates(subset='NCBI Accession')"
   ]
  },
  {
   "cell_type": "code",
   "execution_count": 54,
   "metadata": {},
   "outputs": [
    {
     "data": {
      "text/html": [
       "<div>\n",
       "<style scoped>\n",
       "    .dataframe tbody tr th:only-of-type {\n",
       "        vertical-align: middle;\n",
       "    }\n",
       "\n",
       "    .dataframe tbody tr th {\n",
       "        vertical-align: top;\n",
       "    }\n",
       "\n",
       "    .dataframe thead th {\n",
       "        text-align: right;\n",
       "    }\n",
       "</style>\n",
       "<table border=\"1\" class=\"dataframe\">\n",
       "  <thead>\n",
       "    <tr style=\"text-align: right;\">\n",
       "      <th></th>\n",
       "      <th>NCBI Accession</th>\n",
       "      <th>Organism</th>\n",
       "      <th>Protein Sequence</th>\n",
       "      <th>Phylum</th>\n",
       "      <th>Order</th>\n",
       "      <th>New Class</th>\n",
       "      <th>Activity (predicted)</th>\n",
       "      <th>Oxygen-Tolerance (predicted)</th>\n",
       "      <th>Subunits (predicted)</th>\n",
       "      <th>Metal Centres (predicted)</th>\n",
       "      <th>Accessory Subunits (predicted)</th>\n",
       "    </tr>\n",
       "  </thead>\n",
       "  <tbody>\n",
       "    <tr>\n",
       "      <th>0</th>\n",
       "      <td>WP_004030875.1</td>\n",
       "      <td>Methanobacterium formicicum</td>\n",
       "      <td>MKLAILGAGCYRTHAASGITNFSRACEVAEQVGKPEIAMTHSTIAM...</td>\n",
       "      <td>Euryarchaeota</td>\n",
       "      <td>Methanobacteriales</td>\n",
       "      <td>[Fe]</td>\n",
       "      <td>Bidirectional</td>\n",
       "      <td>Tolerant</td>\n",
       "      <td>1</td>\n",
       "      <td>Fe ion</td>\n",
       "      <td>None</td>\n",
       "    </tr>\n",
       "    <tr>\n",
       "      <th>1</th>\n",
       "      <td>WP_012955328.1</td>\n",
       "      <td>Methanobrevibacter ruminantium</td>\n",
       "      <td>MKVAILGAGCYRTHAASGITNFSRACEVADATGKENISMTHSTIEM...</td>\n",
       "      <td>Euryarchaeota</td>\n",
       "      <td>Methanobacteriales</td>\n",
       "      <td>[Fe]</td>\n",
       "      <td>Bidirectional</td>\n",
       "      <td>Tolerant</td>\n",
       "      <td>1</td>\n",
       "      <td>Fe ion</td>\n",
       "      <td>None</td>\n",
       "    </tr>\n",
       "    <tr>\n",
       "      <th>2</th>\n",
       "      <td>WP_019263574.1</td>\n",
       "      <td>Methanobrevibacter smithii</td>\n",
       "      <td>MKVAILGAGCYRTHAASGITNFTRACEVAEETGKEKFAMTHSTIEM...</td>\n",
       "      <td>Euryarchaeota</td>\n",
       "      <td>Methanobacteriales</td>\n",
       "      <td>[Fe]</td>\n",
       "      <td>Bidirectional</td>\n",
       "      <td>Tolerant</td>\n",
       "      <td>1</td>\n",
       "      <td>Fe ion</td>\n",
       "      <td>None</td>\n",
       "    </tr>\n",
       "    <tr>\n",
       "      <th>3</th>\n",
       "      <td>WP_016357634.1</td>\n",
       "      <td>Methanobrevibacter sp. AbM4</td>\n",
       "      <td>MKVAILGAGCYRTHSASGITNFTRACEVAEQTGKKEIALTHSTIEM...</td>\n",
       "      <td>Euryarchaeota</td>\n",
       "      <td>Methanobacteriales</td>\n",
       "      <td>[Fe]</td>\n",
       "      <td>Bidirectional</td>\n",
       "      <td>Tolerant</td>\n",
       "      <td>1</td>\n",
       "      <td>Fe ion</td>\n",
       "      <td>None</td>\n",
       "    </tr>\n",
       "    <tr>\n",
       "      <th>4</th>\n",
       "      <td>WP_013296316.1</td>\n",
       "      <td>Methanothermobacter marburgensis</td>\n",
       "      <td>MKLAILGAGCYRTHAASGITNFSRACEVAEMVGKPEIAMTHSTITM...</td>\n",
       "      <td>Euryarchaeota</td>\n",
       "      <td>Methanobacteriales</td>\n",
       "      <td>[Fe]</td>\n",
       "      <td>Bidirectional</td>\n",
       "      <td>Tolerant</td>\n",
       "      <td>1</td>\n",
       "      <td>Fe ion</td>\n",
       "      <td>None</td>\n",
       "    </tr>\n",
       "  </tbody>\n",
       "</table>\n",
       "</div>"
      ],
      "text/plain": [
       "   NCBI Accession                          Organism  \\\n",
       "0  WP_004030875.1       Methanobacterium formicicum   \n",
       "1  WP_012955328.1    Methanobrevibacter ruminantium   \n",
       "2  WP_019263574.1        Methanobrevibacter smithii   \n",
       "3  WP_016357634.1       Methanobrevibacter sp. AbM4   \n",
       "4  WP_013296316.1  Methanothermobacter marburgensis   \n",
       "\n",
       "                                    Protein Sequence         Phylum  \\\n",
       "0  MKLAILGAGCYRTHAASGITNFSRACEVAEQVGKPEIAMTHSTIAM...  Euryarchaeota   \n",
       "1  MKVAILGAGCYRTHAASGITNFSRACEVADATGKENISMTHSTIEM...  Euryarchaeota   \n",
       "2  MKVAILGAGCYRTHAASGITNFTRACEVAEETGKEKFAMTHSTIEM...  Euryarchaeota   \n",
       "3  MKVAILGAGCYRTHSASGITNFTRACEVAEQTGKKEIALTHSTIEM...  Euryarchaeota   \n",
       "4  MKLAILGAGCYRTHAASGITNFSRACEVAEMVGKPEIAMTHSTITM...  Euryarchaeota   \n",
       "\n",
       "                Order New Class Activity (predicted)  \\\n",
       "0  Methanobacteriales      [Fe]        Bidirectional   \n",
       "1  Methanobacteriales      [Fe]        Bidirectional   \n",
       "2  Methanobacteriales      [Fe]        Bidirectional   \n",
       "3  Methanobacteriales      [Fe]        Bidirectional   \n",
       "4  Methanobacteriales      [Fe]        Bidirectional   \n",
       "\n",
       "  Oxygen-Tolerance (predicted) Subunits (predicted) Metal Centres (predicted)  \\\n",
       "0                     Tolerant                    1                    Fe ion   \n",
       "1                     Tolerant                    1                    Fe ion   \n",
       "2                     Tolerant                    1                    Fe ion   \n",
       "3                     Tolerant                    1                    Fe ion   \n",
       "4                     Tolerant                    1                    Fe ion   \n",
       "\n",
       "  Accessory Subunits (predicted)  \n",
       "0                           None  \n",
       "1                           None  \n",
       "2                           None  \n",
       "3                           None  \n",
       "4                           None  "
      ]
     },
     "execution_count": 54,
     "metadata": {},
     "output_type": "execute_result"
    }
   ],
   "source": [
    "hyd_concat.head(5)"
   ]
  },
  {
   "cell_type": "code",
   "execution_count": 61,
   "metadata": {},
   "outputs": [],
   "source": [
    "with open('/home/aster/Project_Geoarchaeota_28.11/results/hydrogenases/hyd_db/hyd_db.fasta', 'a') as write_file:\n",
    "    for row in hyd_concat.itertuples():\n",
    "        write_file.write(f\">{row[1].strip()}_{row[2].strip().replace(' ', '_')}_class_{row[6]} [p_{row[4]} o_{row[5]} ox_tol={row[8]} direction={row[7]}]\\n{row[3]}\\n\")\n"
   ]
  },
  {
   "cell_type": "code",
   "execution_count": null,
   "metadata": {},
   "outputs": [],
   "source": []
  }
 ],
 "metadata": {
  "kernelspec": {
   "display_name": "bioinf",
   "language": "python",
   "name": "python3"
  },
  "language_info": {
   "codemirror_mode": {
    "name": "ipython",
    "version": 3
   },
   "file_extension": ".py",
   "mimetype": "text/x-python",
   "name": "python",
   "nbconvert_exporter": "python",
   "pygments_lexer": "ipython3",
   "version": "3.10.6"
  },
  "orig_nbformat": 4,
  "vscode": {
   "interpreter": {
    "hash": "5c7c0e940973d1f7f557ece26bca6704213ece01202fcdffb2249dc40fb254cf"
   }
  }
 },
 "nbformat": 4,
 "nbformat_minor": 2
}
