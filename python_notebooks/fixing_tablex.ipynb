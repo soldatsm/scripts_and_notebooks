{
 "cells": [
  {
   "cell_type": "code",
   "execution_count": 1,
   "metadata": {},
   "outputs": [],
   "source": [
    "import pandas as pd\n",
    "from Bio import  SeqIO\n",
    "import numpy as np"
   ]
  },
  {
   "cell_type": "code",
   "execution_count": 2,
   "metadata": {},
   "outputs": [],
   "source": [
    "data = pd.read_csv('../../pgap_annot/geo/Geo3918_МП_table.csv')"
   ]
  },
  {
   "cell_type": "code",
   "execution_count": 3,
   "metadata": {},
   "outputs": [],
   "source": [
    "pgap_table_names = data['pgap_loc_tag'].to_list()"
   ]
  },
  {
   "cell_type": "code",
   "execution_count": 4,
   "metadata": {},
   "outputs": [],
   "source": [
    "pgap_locs = []\n",
    "pgap_descr = []\n",
    "lengts = []\n",
    "AA = []\n",
    "for seq in SeqIO.parse(open('../../pgap_annot/geo/data/3918-20_PGAP_out_CDS.faa', 'r'), 'fasta'):\n",
    "    \n",
    "    pgap_locs.append('_'.join(seq.description.rsplit('_')[0:2]))\n",
    "    pgap_descr.append(seq.description.rsplit('_')[-2])\n",
    "    AA.append(str(seq.seq.strip()))\n",
    "    lengts.append(len(seq.seq))\n"
   ]
  },
  {
   "cell_type": "code",
   "execution_count": 5,
   "metadata": {},
   "outputs": [],
   "source": [
    "absents = list(set(pgap_locs).difference(set(pgap_table_names)))"
   ]
  },
  {
   "cell_type": "code",
   "execution_count": 6,
   "metadata": {},
   "outputs": [],
   "source": [
    "pgap_zip = zip(pgap_locs, pgap_descr, lengts, AA)"
   ]
  },
  {
   "cell_type": "code",
   "execution_count": 7,
   "metadata": {},
   "outputs": [],
   "source": [
    "absent_pgap_locs = []\n",
    "absent_pgap_descr = []\n",
    "absent_lengts = []\n",
    "absent_AA = []\n",
    "for i,j,k,a in pgap_zip:\n",
    "    if i in absents:\n",
    "        absent_pgap_locs.append(i)\n",
    "        absent_pgap_descr.append(j)\n",
    "        absent_lengts.append(k)\n",
    "        absent_AA.append(a)"
   ]
  },
  {
   "cell_type": "code",
   "execution_count": 8,
   "metadata": {},
   "outputs": [],
   "source": [
    "absent_set = data.iloc[0:0]"
   ]
  },
  {
   "cell_type": "code",
   "execution_count": 9,
   "metadata": {},
   "outputs": [
    {
     "name": "stderr",
     "output_type": "stream",
     "text": [
      "/tmp/ipykernel_190908/715400376.py:1: SettingWithCopyWarning: \n",
      "A value is trying to be set on a copy of a slice from a DataFrame.\n",
      "Try using .loc[row_indexer,col_indexer] = value instead\n",
      "\n",
      "See the caveats in the documentation: https://pandas.pydata.org/pandas-docs/stable/user_guide/indexing.html#returning-a-view-versus-a-copy\n",
      "  absent_set['pgap_loc_tag'] = absent_pgap_locs\n",
      "/tmp/ipykernel_190908/715400376.py:2: SettingWithCopyWarning: \n",
      "A value is trying to be set on a copy of a slice from a DataFrame.\n",
      "Try using .loc[row_indexer,col_indexer] = value instead\n",
      "\n",
      "See the caveats in the documentation: https://pandas.pydata.org/pandas-docs/stable/user_guide/indexing.html#returning-a-view-versus-a-copy\n",
      "  absent_set['pgap_descr'] = absent_pgap_descr\n",
      "/tmp/ipykernel_190908/715400376.py:3: SettingWithCopyWarning: \n",
      "A value is trying to be set on a copy of a slice from a DataFrame.\n",
      "Try using .loc[row_indexer,col_indexer] = value instead\n",
      "\n",
      "See the caveats in the documentation: https://pandas.pydata.org/pandas-docs/stable/user_guide/indexing.html#returning-a-view-versus-a-copy\n",
      "  absent_set['Lenght'] = absent_lengts\n",
      "/tmp/ipykernel_190908/715400376.py:4: SettingWithCopyWarning: \n",
      "A value is trying to be set on a copy of a slice from a DataFrame.\n",
      "Try using .loc[row_indexer,col_indexer] = value instead\n",
      "\n",
      "See the caveats in the documentation: https://pandas.pydata.org/pandas-docs/stable/user_guide/indexing.html#returning-a-view-versus-a-copy\n",
      "  absent_set['AAs'] = absent_AA\n"
     ]
    }
   ],
   "source": [
    "absent_set['pgap_loc_tag'] = absent_pgap_locs\n",
    "absent_set['pgap_descr'] = absent_pgap_descr\n",
    "absent_set['Lenght'] = absent_lengts\n",
    "absent_set['AAs'] = absent_AA"
   ]
  },
  {
   "cell_type": "code",
   "execution_count": 10,
   "metadata": {},
   "outputs": [],
   "source": [
    "new_data = pd.concat([data, absent_set])"
   ]
  },
  {
   "cell_type": "code",
   "execution_count": 13,
   "metadata": {},
   "outputs": [],
   "source": [
    "new_data.to_csv('fixed_pgap_geo3918.csv', index=False)"
   ]
  },
  {
   "cell_type": "code",
   "execution_count": 11,
   "metadata": {},
   "outputs": [],
   "source": [
    "new_data2 = new_data.sort_values(by='pgap_loc_tag', key=lambda x: x)"
   ]
  },
  {
   "cell_type": "code",
   "execution_count": 14,
   "metadata": {},
   "outputs": [],
   "source": [
    "new_data2.to_csv('fixed_pgap_geo3918_sorted.csv', index=False)"
   ]
  },
  {
   "attachments": {},
   "cell_type": "markdown",
   "metadata": {},
   "source": [
    "### make a fasta file from pgap+rast"
   ]
  },
  {
   "cell_type": "code",
   "execution_count": 17,
   "metadata": {},
   "outputs": [
    {
     "data": {
      "text/plain": [
       "Index(['Gene id', 'Description', 'pgap_loc_tag', 'pgap_descr', 'Type',\n",
       "       'TM type', 'Lenght', 'AAs', 'TM Topology', 'dbCAN subfam/MEROPS',\n",
       "       'Substrate/description', 'E Value', 'Coverage', 'EC#', 'HMMER',\n",
       "       'dbCAN subfam', 'DIAMOND', 'Signalp', '#ofTools'],\n",
       "      dtype='object')"
      ]
     },
     "execution_count": 17,
     "metadata": {},
     "output_type": "execute_result"
    }
   ],
   "source": [
    "new_data2.columns"
   ]
  },
  {
   "cell_type": "code",
   "execution_count": 38,
   "metadata": {},
   "outputs": [],
   "source": [
    "with open('./pgap_rast.faa', 'a') as write_file:\n",
    "    for idx, row in new_data2.iterrows():\n",
    "        if row['pgap_loc_tag'] is not np.nan:\n",
    "            write_file.write(f\">{row['pgap_loc_tag']} {row['pgap_descr']} \\n\")\n",
    "            write_file.write(f\"{str(row['AAs'])}\\n\")\n",
    "        else:\n",
    "            write_file.write(f\">{row['Gene id']} {row['Description']} \\n\")\n",
    "            write_file.write(f\"{str(row['AAs'])}\\n\")"
   ]
  },
  {
   "cell_type": "code",
   "execution_count": 33,
   "metadata": {},
   "outputs": [
    {
     "data": {
      "text/plain": [
       "numpy.float64"
      ]
     },
     "execution_count": 33,
     "metadata": {},
     "output_type": "execute_result"
    }
   ],
   "source": [
    "type(new_data2.iloc[-2, -1])"
   ]
  },
  {
   "cell_type": "markdown",
   "metadata": {},
   "source": [
    "###"
   ]
  },
  {
   "attachments": {},
   "cell_type": "markdown",
   "metadata": {},
   "source": [
    "### Тоже самое для Geo3817"
   ]
  },
  {
   "cell_type": "code",
   "execution_count": 2,
   "metadata": {},
   "outputs": [],
   "source": [
    "import pandas as pd\n",
    "import numpy as np\n",
    "from Bio import SeqIO"
   ]
  },
  {
   "cell_type": "code",
   "execution_count": 3,
   "metadata": {},
   "outputs": [],
   "source": [
    "data = pd.read_csv('../../pgap_annot/geo/geo3817_AK_full_table.csv')"
   ]
  },
  {
   "cell_type": "code",
   "execution_count": 4,
   "metadata": {},
   "outputs": [],
   "source": [
    "pgap_table_names = data['pgap_loc_tag'].to_list()"
   ]
  },
  {
   "cell_type": "code",
   "execution_count": 5,
   "metadata": {},
   "outputs": [],
   "source": [
    "pgap_locs = []\n",
    "pgap_descr = []\n",
    "lengts = []\n",
    "AA = []\n",
    "for seq in SeqIO.parse(open('../../pgap_annot/geo/data/3817-70_PGAP_out_CDS.faa', 'r'), 'fasta'):\n",
    "    \n",
    "    pgap_locs.append('_'.join(seq.description.rsplit('_')[0:2]))\n",
    "    pgap_descr.append(seq.description.rsplit('_')[-2])\n",
    "    AA.append(str(seq.seq.strip()))\n",
    "    lengts.append(len(seq.seq))"
   ]
  },
  {
   "cell_type": "code",
   "execution_count": 6,
   "metadata": {},
   "outputs": [],
   "source": [
    "absents = list(set(pgap_locs).difference(set(pgap_table_names)))"
   ]
  },
  {
   "cell_type": "code",
   "execution_count": 7,
   "metadata": {},
   "outputs": [
    {
     "data": {
      "text/plain": [
       "66"
      ]
     },
     "execution_count": 7,
     "metadata": {},
     "output_type": "execute_result"
    }
   ],
   "source": [
    "len(absents)"
   ]
  },
  {
   "cell_type": "code",
   "execution_count": 8,
   "metadata": {},
   "outputs": [
    {
     "data": {
      "text/plain": [
       "['PRZ02_03175',\n",
       " 'PRZ02_06855',\n",
       " 'PRZ02_01750',\n",
       " 'PRZ02_06200',\n",
       " 'PRZ02_06270',\n",
       " 'PRZ02_04610',\n",
       " 'PRZ02_01445',\n",
       " 'PRZ02_00105',\n",
       " 'PRZ02_01025',\n",
       " 'PRZ02_04540',\n",
       " 'PRZ02_01185',\n",
       " 'PRZ02_04275',\n",
       " 'PRZ02_05040',\n",
       " 'PRZ02_01810',\n",
       " 'PRZ02_04955',\n",
       " 'PRZ02_03385',\n",
       " 'PRZ02_03700',\n",
       " 'PRZ02_01170',\n",
       " 'PRZ02_01970',\n",
       " 'PRZ02_01915',\n",
       " 'PRZ02_01700',\n",
       " 'PRZ02_04040',\n",
       " 'PRZ02_02485',\n",
       " 'PRZ02_03960',\n",
       " 'PRZ02_04265',\n",
       " 'PRZ02_00835',\n",
       " 'PRZ02_01960',\n",
       " 'PRZ02_01285',\n",
       " 'PRZ02_03800',\n",
       " 'PRZ02_02255',\n",
       " 'PRZ02_06980',\n",
       " 'PRZ02_00815',\n",
       " 'PRZ02_00070',\n",
       " 'PRZ02_05375',\n",
       " 'PRZ02_05830',\n",
       " 'PRZ02_02450',\n",
       " 'PRZ02_01720',\n",
       " 'PRZ02_03705',\n",
       " 'PRZ02_05295',\n",
       " 'PRZ02_04315',\n",
       " 'PRZ02_04630',\n",
       " 'PRZ02_00615',\n",
       " 'PRZ02_04415',\n",
       " 'PRZ02_01635',\n",
       " 'PRZ02_04130',\n",
       " 'PRZ02_03305',\n",
       " 'PRZ02_06305',\n",
       " 'PRZ02_03670',\n",
       " 'PRZ02_06755',\n",
       " 'PRZ02_06450',\n",
       " 'PRZ02_04690',\n",
       " 'PRZ02_04675',\n",
       " 'PRZ02_00625',\n",
       " 'PRZ02_04325',\n",
       " 'PRZ02_06280',\n",
       " 'PRZ02_03460',\n",
       " 'PRZ02_01935',\n",
       " 'PRZ02_04565',\n",
       " 'PRZ02_02770',\n",
       " 'PRZ02_04715',\n",
       " 'PRZ02_02645',\n",
       " 'PRZ02_07145',\n",
       " 'PRZ02_02055',\n",
       " 'PRZ02_03345',\n",
       " 'PRZ02_03105',\n",
       " 'PRZ02_00585']"
      ]
     },
     "execution_count": 8,
     "metadata": {},
     "output_type": "execute_result"
    }
   ],
   "source": [
    "absents"
   ]
  },
  {
   "cell_type": "code",
   "execution_count": 9,
   "metadata": {},
   "outputs": [],
   "source": [
    "pgap_zip = zip(pgap_locs, pgap_descr, lengts, AA)"
   ]
  },
  {
   "cell_type": "code",
   "execution_count": 10,
   "metadata": {},
   "outputs": [],
   "source": [
    "absent_pgap_locs = []\n",
    "absent_pgap_descr = []\n",
    "absent_lengts = []\n",
    "absent_AA = []\n",
    "for i,j,k,a in pgap_zip:\n",
    "    if i in absents:\n",
    "        absent_pgap_locs.append(i)\n",
    "        absent_pgap_descr.append(j)\n",
    "        absent_lengts.append(k)\n",
    "        absent_AA.append(a)"
   ]
  },
  {
   "cell_type": "code",
   "execution_count": 11,
   "metadata": {},
   "outputs": [],
   "source": [
    "absent_set = data.iloc[0:0]"
   ]
  },
  {
   "cell_type": "code",
   "execution_count": 12,
   "metadata": {},
   "outputs": [
    {
     "name": "stderr",
     "output_type": "stream",
     "text": [
      "/tmp/ipykernel_271957/2996278141.py:1: SettingWithCopyWarning: \n",
      "A value is trying to be set on a copy of a slice from a DataFrame.\n",
      "Try using .loc[row_indexer,col_indexer] = value instead\n",
      "\n",
      "See the caveats in the documentation: https://pandas.pydata.org/pandas-docs/stable/user_guide/indexing.html#returning-a-view-versus-a-copy\n",
      "  absent_set['pgap_loc_tag'] = absent_pgap_locs\n",
      "/tmp/ipykernel_271957/2996278141.py:2: SettingWithCopyWarning: \n",
      "A value is trying to be set on a copy of a slice from a DataFrame.\n",
      "Try using .loc[row_indexer,col_indexer] = value instead\n",
      "\n",
      "See the caveats in the documentation: https://pandas.pydata.org/pandas-docs/stable/user_guide/indexing.html#returning-a-view-versus-a-copy\n",
      "  absent_set['pgap_descr'] = absent_pgap_descr\n",
      "/tmp/ipykernel_271957/2996278141.py:3: SettingWithCopyWarning: \n",
      "A value is trying to be set on a copy of a slice from a DataFrame.\n",
      "Try using .loc[row_indexer,col_indexer] = value instead\n",
      "\n",
      "See the caveats in the documentation: https://pandas.pydata.org/pandas-docs/stable/user_guide/indexing.html#returning-a-view-versus-a-copy\n",
      "  absent_set['Lenght_AA'] = absent_lengts\n",
      "/tmp/ipykernel_271957/2996278141.py:4: SettingWithCopyWarning: \n",
      "A value is trying to be set on a copy of a slice from a DataFrame.\n",
      "Try using .loc[row_indexer,col_indexer] = value instead\n",
      "\n",
      "See the caveats in the documentation: https://pandas.pydata.org/pandas-docs/stable/user_guide/indexing.html#returning-a-view-versus-a-copy\n",
      "  absent_set['AAs'] = absent_AA\n"
     ]
    }
   ],
   "source": [
    "absent_set['pgap_loc_tag'] = absent_pgap_locs\n",
    "absent_set['pgap_descr'] = absent_pgap_descr\n",
    "absent_set['Lenght_AA'] = absent_lengts\n",
    "absent_set['AAs'] = absent_AA"
   ]
  },
  {
   "cell_type": "code",
   "execution_count": 13,
   "metadata": {},
   "outputs": [],
   "source": [
    "new_data = pd.concat([data, absent_set])"
   ]
  },
  {
   "cell_type": "code",
   "execution_count": 14,
   "metadata": {},
   "outputs": [],
   "source": [
    "new_data.to_csv('fixed_pgap_geo3817.csv', index=False)"
   ]
  },
  {
   "cell_type": "code",
   "execution_count": 15,
   "metadata": {},
   "outputs": [
    {
     "data": {
      "text/plain": [
       "Index(['IDs', 'Description', 'pgap_loc_tag', 'pgap_descr', 'Type', 'TM Type',\n",
       "       'Lenght_AA', 'AAs', 'TM_composition', 'dbCAN subfam',\n",
       "       'Subfam Composition', 'Substrate', 'E Value', 'Coverage', 'Subfam EC',\n",
       "       'HMMER', 'DIAMOND'],\n",
       "      dtype='object')"
      ]
     },
     "execution_count": 15,
     "metadata": {},
     "output_type": "execute_result"
    }
   ],
   "source": [
    "new_data.columns"
   ]
  },
  {
   "cell_type": "code",
   "execution_count": 16,
   "metadata": {},
   "outputs": [],
   "source": [
    "new_data2 = new_data.sort_values(by='pgap_loc_tag', key=lambda x: x)"
   ]
  },
  {
   "cell_type": "code",
   "execution_count": 18,
   "metadata": {},
   "outputs": [],
   "source": [
    "new_data2.to_csv('fixed_pgap_geo3817_sorted.csv', index=False)"
   ]
  },
  {
   "cell_type": "code",
   "execution_count": 18,
   "metadata": {},
   "outputs": [
    {
     "data": {
      "text/plain": [
       "Index(['IDs', 'Description', 'pgap_loc_tag', 'pgap_descr', 'Type', 'TM Type',\n",
       "       'Lenght_AA', 'AAs', 'TM_composition', 'dbCAN subfam',\n",
       "       'Subfam Composition', 'Substrate', 'E Value', 'Coverage', 'Subfam EC',\n",
       "       'HMMER', 'DIAMOND'],\n",
       "      dtype='object')"
      ]
     },
     "execution_count": 18,
     "metadata": {},
     "output_type": "execute_result"
    }
   ],
   "source": [
    "new_data2.columns"
   ]
  },
  {
   "cell_type": "code",
   "execution_count": 20,
   "metadata": {},
   "outputs": [],
   "source": [
    "with open('./Geo3817_pgap_rast.faa', 'a') as write_file:\n",
    "    for idx, row in new_data2.iterrows():\n",
    "        if row['pgap_loc_tag'] is not np.nan:\n",
    "            write_file.write(f\">{row['pgap_loc_tag']} {row['pgap_descr']} \\n\")\n",
    "            write_file.write(f\"{str(row['AAs'])}\\n\")\n",
    "        else:\n",
    "            write_file.write(f\">{row['IDs']} {row['Description']} \\n\")\n",
    "            write_file.write(f\"{str(row['AAs'])}\\n\")"
   ]
  }
 ],
 "metadata": {
  "kernelspec": {
   "display_name": "bioinf",
   "language": "python",
   "name": "python3"
  },
  "language_info": {
   "codemirror_mode": {
    "name": "ipython",
    "version": 3
   },
   "file_extension": ".py",
   "mimetype": "text/x-python",
   "name": "python",
   "nbconvert_exporter": "python",
   "pygments_lexer": "ipython3",
   "version": "3.10.6"
  },
  "orig_nbformat": 4,
  "vscode": {
   "interpreter": {
    "hash": "5c7c0e940973d1f7f557ece26bca6704213ece01202fcdffb2249dc40fb254cf"
   }
  }
 },
 "nbformat": 4,
 "nbformat_minor": 2
}
