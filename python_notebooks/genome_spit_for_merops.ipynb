{
 "cells": [
  {
   "cell_type": "code",
   "execution_count": 4,
   "metadata": {},
   "outputs": [],
   "source": [
    "import pandas as pd\n",
    "from Bio import SeqIO"
   ]
  },
  {
   "attachments": {},
   "cell_type": "markdown",
   "metadata": {},
   "source": [
    "То есть нужно сделать во первых делитель для фаста файлов так как EBI не принимает больше чем 500 сиквенсов в файле.\n",
    "\n"
   ]
  },
  {
   "attachments": {},
   "cell_type": "markdown",
   "metadata": {},
   "source": [
    "## Вариант когда просто считается чтобы было не больше 500 сиквенсов и все "
   ]
  },
  {
   "cell_type": "code",
   "execution_count": 6,
   "metadata": {},
   "outputs": [],
   "source": [
    "seq_lst = []\n",
    "fa_path = '/home/aster/Project_Geoarchaeota_28.11/3817-70/data/sequence_annotation/1448933.6.faa'\n",
    "\n",
    "for seq in SeqIO.parse(open(f'{fa_path}', 'r'), 'fasta'):\n",
    "    seq_lst.append(seq)"
   ]
  },
  {
   "cell_type": "code",
   "execution_count": 72,
   "metadata": {},
   "outputs": [],
   "source": [
    "nested_lst = []\n",
    "r = []\n",
    "for i in range(len(seq_lst)):\n",
    "    if i % 500 != 0:\n",
    "        r.append(seq_lst[i])\n",
    "    else: \n",
    "        nested_lst.append(r)\n",
    "        r = [] \n",
    "        r.append(seq_lst[i])\n",
    "nested_lst.append(r) # Добавить остатки которые не присоединились в лист в ходе цикла\n"
   ]
  },
  {
   "cell_type": "code",
   "execution_count": 74,
   "metadata": {},
   "outputs": [],
   "source": [
    "path_new_fa = '/home/aster/Project_Geoarchaeota_28.11/3817-70/results/MEROPS/'\n",
    "for i in range(1,len(nested_lst)):\n",
    "    SeqIO.write(handle=f'{path_new_fa}3817_part{i}.faa', sequences=nested_lst[i], format='fasta')\n"
   ]
  },
  {
   "cell_type": "code",
   "execution_count": null,
   "metadata": {},
   "outputs": [],
   "source": []
  }
 ],
 "metadata": {
  "kernelspec": {
   "display_name": "bioinf",
   "language": "python",
   "name": "python3"
  },
  "language_info": {
   "codemirror_mode": {
    "name": "ipython",
    "version": 3
   },
   "file_extension": ".py",
   "mimetype": "text/x-python",
   "name": "python",
   "nbconvert_exporter": "python",
   "pygments_lexer": "ipython3",
   "version": "3.10.6"
  },
  "orig_nbformat": 4,
  "vscode": {
   "interpreter": {
    "hash": "5c7c0e940973d1f7f557ece26bca6704213ece01202fcdffb2249dc40fb254cf"
   }
  }
 },
 "nbformat": 4,
 "nbformat_minor": 2
}
