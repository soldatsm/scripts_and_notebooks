{
 "cells": [
  {
   "cell_type": "code",
   "execution_count": 1,
   "metadata": {},
   "outputs": [],
   "source": [
    "import pandas as pd"
   ]
  },
  {
   "cell_type": "markdown",
   "metadata": {},
   "source": [
    "# Finding repeats in genome by blastn"
   ]
  },
  {
   "cell_type": "markdown",
   "metadata": {},
   "source": [
    "https://dbsloan.github.io/TS2019/exercises/circos.html#add-gc-skew-data-to-the-plot"
   ]
  },
  {
   "cell_type": "markdown",
   "metadata": {},
   "source": [
    "### blast string \n",
    "\n",
    " blastn -word_size 28 -evalue 1e-10 -db ./data/1448933.3.fna -query ./data/1448933.3.fna -outfmt \"6 qaccver stitle pident length mismatch gapopen evalue qcovs bitscore\" -out self_blast.tsv"
   ]
  },
  {
   "cell_type": "markdown",
   "metadata": {},
   "source": [
    "### results"
   ]
  },
  {
   "cell_type": "code",
   "execution_count": 6,
   "metadata": {},
   "outputs": [],
   "source": [
    "repats_data = pd.read_csv('/home/aster/Project_Geoarchaeota_28.11/results/repeats_ident_in_genome/self_blast.tsv', delimiter='\\t', header=None)"
   ]
  },
  {
   "cell_type": "code",
   "execution_count": 7,
   "metadata": {},
   "outputs": [
    {
     "data": {
      "text/html": [
       "<div>\n",
       "<style scoped>\n",
       "    .dataframe tbody tr th:only-of-type {\n",
       "        vertical-align: middle;\n",
       "    }\n",
       "\n",
       "    .dataframe tbody tr th {\n",
       "        vertical-align: top;\n",
       "    }\n",
       "\n",
       "    .dataframe thead th {\n",
       "        text-align: right;\n",
       "    }\n",
       "</style>\n",
       "<table border=\"1\" class=\"dataframe\">\n",
       "  <thead>\n",
       "    <tr style=\"text-align: right;\">\n",
       "      <th></th>\n",
       "      <th>0</th>\n",
       "      <th>1</th>\n",
       "      <th>2</th>\n",
       "      <th>3</th>\n",
       "      <th>4</th>\n",
       "      <th>5</th>\n",
       "      <th>6</th>\n",
       "      <th>7</th>\n",
       "      <th>8</th>\n",
       "    </tr>\n",
       "  </thead>\n",
       "  <tbody>\n",
       "    <tr>\n",
       "      <th>0</th>\n",
       "      <td>fig|1448933.3.peg.1</td>\n",
       "      <td>fig|1448933.3.peg.1</td>\n",
       "      <td>100.00</td>\n",
       "      <td>2226</td>\n",
       "      <td>0</td>\n",
       "      <td>0</td>\n",
       "      <td>0.000000e+00</td>\n",
       "      <td>100</td>\n",
       "      <td>4111.0</td>\n",
       "    </tr>\n",
       "    <tr>\n",
       "      <th>1</th>\n",
       "      <td>fig|1448933.3.peg.1</td>\n",
       "      <td>fig|1448933.3.peg.1203</td>\n",
       "      <td>91.07</td>\n",
       "      <td>1803</td>\n",
       "      <td>146</td>\n",
       "      <td>12</td>\n",
       "      <td>0.000000e+00</td>\n",
       "      <td>81</td>\n",
       "      <td>2423.0</td>\n",
       "    </tr>\n",
       "    <tr>\n",
       "      <th>2</th>\n",
       "      <td>fig|1448933.3.peg.2</td>\n",
       "      <td>fig|1448933.3.peg.2</td>\n",
       "      <td>100.00</td>\n",
       "      <td>897</td>\n",
       "      <td>0</td>\n",
       "      <td>0</td>\n",
       "      <td>0.000000e+00</td>\n",
       "      <td>100</td>\n",
       "      <td>1657.0</td>\n",
       "    </tr>\n",
       "    <tr>\n",
       "      <th>3</th>\n",
       "      <td>fig|1448933.3.peg.3</td>\n",
       "      <td>fig|1448933.3.peg.3</td>\n",
       "      <td>100.00</td>\n",
       "      <td>1263</td>\n",
       "      <td>0</td>\n",
       "      <td>0</td>\n",
       "      <td>0.000000e+00</td>\n",
       "      <td>100</td>\n",
       "      <td>2333.0</td>\n",
       "    </tr>\n",
       "    <tr>\n",
       "      <th>4</th>\n",
       "      <td>fig|1448933.3.peg.4</td>\n",
       "      <td>fig|1448933.3.peg.4</td>\n",
       "      <td>100.00</td>\n",
       "      <td>138</td>\n",
       "      <td>0</td>\n",
       "      <td>0</td>\n",
       "      <td>1.290000e-69</td>\n",
       "      <td>100</td>\n",
       "      <td>255.0</td>\n",
       "    </tr>\n",
       "  </tbody>\n",
       "</table>\n",
       "</div>"
      ],
      "text/plain": [
       "                     0                       1       2     3    4   5  \\\n",
       "0  fig|1448933.3.peg.1     fig|1448933.3.peg.1  100.00  2226    0   0   \n",
       "1  fig|1448933.3.peg.1  fig|1448933.3.peg.1203   91.07  1803  146  12   \n",
       "2  fig|1448933.3.peg.2     fig|1448933.3.peg.2  100.00   897    0   0   \n",
       "3  fig|1448933.3.peg.3     fig|1448933.3.peg.3  100.00  1263    0   0   \n",
       "4  fig|1448933.3.peg.4     fig|1448933.3.peg.4  100.00   138    0   0   \n",
       "\n",
       "              6    7       8  \n",
       "0  0.000000e+00  100  4111.0  \n",
       "1  0.000000e+00   81  2423.0  \n",
       "2  0.000000e+00  100  1657.0  \n",
       "3  0.000000e+00  100  2333.0  \n",
       "4  1.290000e-69  100   255.0  "
      ]
     },
     "execution_count": 7,
     "metadata": {},
     "output_type": "execute_result"
    }
   ],
   "source": [
    "repats_data.head()"
   ]
  },
  {
   "cell_type": "code",
   "execution_count": 9,
   "metadata": {},
   "outputs": [],
   "source": [
    "repats_data2 = repats_data[repats_data[0] != repats_data[1]]"
   ]
  },
  {
   "cell_type": "code",
   "execution_count": 10,
   "metadata": {},
   "outputs": [],
   "source": [
    "processed_data = pd.DataFrame({'Subject':repats_data2[0],\n",
    "                                'Query':repats_data2[1],\n",
    "                                'identity':repats_data2[2],\n",
    "                                'lenght':repats_data2[3],\n",
    "                                'missmatch':repats_data2[4],\n",
    "                                'gapopen':repats_data2[5],\n",
    "                                'evalue':repats_data2[6],\n",
    "                                'coverage':repats_data2[7],\n",
    "                                'bitscore':repats_data2[8]})"
   ]
  },
  {
   "cell_type": "code",
   "execution_count": 12,
   "metadata": {},
   "outputs": [],
   "source": [
    "processed_data.to_csv('/home/aster/Project_Geoarchaeota_28.11/results/repeats_ident_in_genome/repeats.tsv', sep='\\t', index=False)"
   ]
  }
 ],
 "metadata": {
  "kernelspec": {
   "display_name": "Python 3.10.6 ('bioinf')",
   "language": "python",
   "name": "python3"
  },
  "language_info": {
   "codemirror_mode": {
    "name": "ipython",
    "version": 3
   },
   "file_extension": ".py",
   "mimetype": "text/x-python",
   "name": "python",
   "nbconvert_exporter": "python",
   "pygments_lexer": "ipython3",
   "version": "3.10.6 (main, Oct 24 2022, 16:07:47) [GCC 11.2.0]"
  },
  "orig_nbformat": 4,
  "vscode": {
   "interpreter": {
    "hash": "5c7c0e940973d1f7f557ece26bca6704213ece01202fcdffb2249dc40fb254cf"
   }
  }
 },
 "nbformat": 4,
 "nbformat_minor": 2
}
